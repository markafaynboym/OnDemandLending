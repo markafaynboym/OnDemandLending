{
 "cells": [
  {
   "cell_type": "code",
   "execution_count": 1,
   "id": "7e2ab2b3",
   "metadata": {},
   "outputs": [
    {
     "name": "stdout",
     "output_type": "stream",
     "text": [
      "🔗 Navigated to login page\n",
      "➡️ Submitted username\n",
      "🔐 Clicked login button\n",
      "✅ Login attempt complete\n",
      "📂 'My Lists' clicked\n",
      "✅ Leads.csv downloaded and renamed.\n",
      "✅ Loanstatus.csv downloaded and renamed.\n",
      "1\n",
      "✅ 'Reporting' menu clicked\n",
      "✅ 'Pipeline Metrics' clicked\n",
      "✅ Outer 'This Week' filter clicked\n",
      "✅ Inner 'This Week' dropdown clicked\n",
      "✅ 'Custom' date range selected\n",
      "📅 'From' date set to 01/01/2023 MM/DD/YYYY\n",
      "[0]  → \n",
      "[1] Branch → 29: branch\n",
      "[2] Loan Status → 30: loanStatus\n",
      "[3] Loan Purpose → 31: loanPurpose\n",
      "[4] Loan Type → 32: loanType\n",
      "[5] Loan Officer → 33: primaryRoleUser\n",
      "[6] Lead Source → 34: leadSource\n",
      "[7] State → 35: state\n",
      "[8] Sub Status → 36: subStatus\n",
      "[9] Referral Source → 37: referralSource\n",
      "[10] Inside Referral Source → 38: insideReferralSource\n",
      "[11] Referred To → 39: referredTo\n",
      "[12] Lead Campaign Name → 40: leadCampaignName\n",
      "[13] Secondary Referral Source → 41: secondaryReferralSource\n",
      "[14] Lead Ref ID → 42: leadRefId\n",
      "✅ 'Lead Ref ID' selected by visible text\n",
      "📂 First accordion clicked\n",
      "🧩 Columns dropdown opened\n",
      "✅ First checkbox clicked (Select All)\n",
      "✅ PipelineMetrics_LOS.csv downloaded and renamed.\n"
     ]
    },
    {
     "name": "stderr",
     "output_type": "stream",
     "text": [
      "/Users/markfaynboym/Desktop/MarkFaynboym/Programming/GitHub/OnDemandLending/Project1/sync_to_google_sheets.py:36: FutureWarning: DataFrame.applymap has been deprecated. Use DataFrame.map instead.\n",
      "  df = df.applymap(lambda x: str(x).strip())\n"
     ]
    },
    {
     "name": "stdout",
     "output_type": "stream",
     "text": [
      "✅ Uploaded Leads_CRM.csv to 'CRM' tab\n"
     ]
    },
    {
     "name": "stderr",
     "output_type": "stream",
     "text": [
      "/Users/markfaynboym/Desktop/MarkFaynboym/Programming/GitHub/OnDemandLending/Project1/sync_to_google_sheets.py:36: FutureWarning: DataFrame.applymap has been deprecated. Use DataFrame.map instead.\n",
      "  df = df.applymap(lambda x: str(x).strip())\n"
     ]
    },
    {
     "name": "stdout",
     "output_type": "stream",
     "text": [
      "✅ Uploaded PipelineMetrics_LOS.csv to 'LOS' tab\n"
     ]
    },
    {
     "name": "stderr",
     "output_type": "stream",
     "text": [
      "/Users/markfaynboym/Desktop/MarkFaynboym/Programming/GitHub/OnDemandLending/Project1/sync_to_google_sheets.py:36: FutureWarning: DataFrame.applymap has been deprecated. Use DataFrame.map instead.\n",
      "  df = df.applymap(lambda x: str(x).strip())\n"
     ]
    },
    {
     "name": "stdout",
     "output_type": "stream",
     "text": [
      "✅ Uploaded LoanStatus.csv to 'LoanStatus' tab\n",
      "✅ Imported 'Total Mail Count' tab to ../../data/processed/Total_Mail_Count.csv\n"
     ]
    }
   ],
   "source": [
    "\"\"\"\n",
    "GOAL: GENERATE THE MailData Spreadsheet for time efficiency\n",
    "Generate the following fields, \n",
    "Total Mail Pieces:\n",
    "Calls:\n",
    "Response Rate:\n",
    "Locks:\n",
    "Fundings:\n",
    "Call to Lock:\n",
    "Lock to Fund:\n",
    "\"\"\"\n",
    "\n",
    "# load environment variable to get .env file containing email and password\n",
    "from dotenv import load_dotenv\n",
    "load_dotenv(dotenv_path=\"../../.env\")\n",
    "\n",
    "# import all necessary packages and functions\n",
    "import os\n",
    "import time\n",
    "import sys\n",
    "import pandas as pd\n",
    "import matplotlib.pyplot as plt\n",
    "from IPython.display import display\n",
    "from selenium.webdriver.support.ui import WebDriverWait\n",
    "\n",
    "# Add Project1 to path\n",
    "sys.path.append(os.path.abspath(\"..\"))\n",
    "\n",
    "from sync_to_google_sheets import upload_csv_to_sheet\n",
    "from sync_to_google_sheets import import_sheet_tab_to_csv\n",
    "from src.data_processing.generate_maildata import generate_maildata\n",
    "\n",
    "#add src folder to path\n",
    "#sys.path.append(os.path.abspath(\"../src\"))\n",
    "\n",
    "from src.scraping.driver_setup import get_driver\n",
    "from src.scraping.login import login\n",
    "from src.scraping.leads_scraper import scrape_leads\n",
    "from src.scraping.pipelinemetrics_scraper import scrape_pipeline_metrics\n",
    "from src.scraping.loanstatus_scraper import scrape_loanstatus\n",
    "from src.utils.file_ops import rename_latest_file\n",
    "\n",
    "##############      Run LodaSoft web scraping functions       #################\n",
    "\n",
    "# Set download directory\n",
    "download_dir = os.path.abspath(\"../../data/raw\")\n",
    "# Launch browser\n",
    "driver = get_driver(download_dir)\n",
    "wait = WebDriverWait(driver, 15)\n",
    "\n",
    "# Run scraping tasks\n",
    "login(driver, wait)\n",
    "\n",
    "#Scrape Leads_CRM\n",
    "scrape_leads(driver, wait, download_dir)\n",
    "rename_latest_file(download_dir, \"Leads_CRM.csv\")\n",
    "\n",
    "#Scrape Loanstatus\n",
    "scrape_loanstatus(driver, wait, download_dir)\n",
    "rename_latest_file(download_dir, \"Loanstatus.csv\")\n",
    "#Scrape PipelineMetrics_LOS\n",
    "scrape_pipeline_metrics(driver, wait, download_dir)\n",
    "rename_latest_file(download_dir, \"PipelineMetrics_LOS.csv\")\n",
    "\n",
    "driver.quit()\n",
    "\n",
    "##############    Export to googlesheets as a secondary source    #################\n",
    "\n",
    "# Export data into googlesheets.\n",
    "\n",
    "# Upload Leads_CRM.csv to 'CRM' tab\n",
    "upload_csv_to_sheet(\"../../data/raw/Leads_CRM.csv\", \"CRM\")\n",
    "# Upload PipelineMetrics_LOS.csv to 'LOS' tab\n",
    "upload_csv_to_sheet(\"../../data/raw/PipelineMetrics_LOS.csv\", \"LOS\")\n",
    "# Upload LoanStatus.csv to 'LoanStatus' tab\n",
    "upload_csv_to_sheet(\"../../data/raw/LoanStatus.csv\", \"LoanStatus\")\n",
    "time.sleep(2)\n",
    "\n",
    "# Import All Calls, cleaned Loan status and total mail CSV for future use\n",
    "\n",
    "# df_calls = import_sheet_tab_to_csv(\"Calls\",output_filename=\"Calls_All.csv\" )\n",
    "# df_loanstatus = import_sheet_tab_to_csv(\"LoanStatus\", output_filename=\"LoanStatus_clean.csv\")\n",
    "df_total_mail = import_sheet_tab_to_csv(\"Total Mail Count\", output_filename=\"Total_Mail_Count.csv\")\n",
    "\n",
    "# Generates Mail Data\n",
    "MailData = generate_maildata()\n",
    "MailData_path = os.path.join(\"..\",\"..\", \"data\", \"processed\", \"MailData.csv\")\n",
    "MailData.to_csv(MailData_path)"
   ]
  }
 ],
 "metadata": {
  "kernelspec": {
   "display_name": "venv",
   "language": "python",
   "name": "python3"
  },
  "language_info": {
   "codemirror_mode": {
    "name": "ipython",
    "version": 3
   },
   "file_extension": ".py",
   "mimetype": "text/x-python",
   "name": "python",
   "nbconvert_exporter": "python",
   "pygments_lexer": "ipython3",
   "version": "3.12.11"
  }
 },
 "nbformat": 4,
 "nbformat_minor": 5
}
