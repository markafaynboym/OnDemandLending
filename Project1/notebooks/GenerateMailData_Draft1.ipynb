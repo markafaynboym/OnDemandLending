{
 "cells": [
  {
   "cell_type": "code",
   "execution_count": 1,
   "id": "7e2ab2b3",
   "metadata": {},
   "outputs": [
    {
     "data": {
      "text/plain": [
       "'\\nGOAL: GENERATE THE MailData Spreadsheet for time efficiency\\nRough Draft:\\nGenerate the following fields, \\nTotal Mail Pieces:\\nCalls:\\nResponse Rate:\\nLocks:\\nFundings:\\nCall to Lock:\\nLock to Fund:\\n\\nThere are 3 marketing ads: Camber, Amsive, Redstone\\n'"
      ]
     },
     "execution_count": 1,
     "metadata": {},
     "output_type": "execute_result"
    }
   ],
   "source": [
    "\"\"\"\n",
    "GOAL: GENERATE THE MailData Spreadsheet for time efficiency\n",
    "Rough Draft:\n",
    "Generate the following fields, \n",
    "Total Mail Pieces:\n",
    "Calls:\n",
    "Response Rate:\n",
    "Locks:\n",
    "Fundings:\n",
    "Call to Lock:\n",
    "Lock to Fund:\n",
    "\n",
    "There are 3 marketing ads: Camber, Amsive, Redstone\n",
    "\"\"\""
   ]
  },
  {
   "cell_type": "code",
   "execution_count": null,
   "id": "6d2e66fd",
   "metadata": {},
   "outputs": [],
   "source": []
  },
  {
   "cell_type": "code",
   "execution_count": 1,
   "id": "b4c889d2",
   "metadata": {},
   "outputs": [
    {
     "name": "stdout",
     "output_type": "stream",
     "text": [
      "🔗 Navigated to login page\n",
      "➡️ Submitted username\n",
      "🔐 Clicked login button\n",
      "✅ Login attempt complete\n",
      "📂 'My Lists' clicked\n",
      "✅ Leads.csv downloaded and renamed.\n",
      "✅ Loanstatus.csv downloaded and renamed.\n",
      "1\n",
      "✅ 'Reporting' menu clicked\n",
      "✅ 'Pipeline Metrics' clicked\n",
      "✅ Outer 'This Week' filter clicked\n",
      "✅ Inner 'This Week' dropdown clicked\n",
      "✅ 'Custom' date range selected\n",
      "📅 'From' date set to 03/28/2024\n",
      "[0]  → \n",
      "[1] Branch → 29: branch\n",
      "[2] Loan Status → 30: loanStatus\n",
      "[3] Loan Purpose → 31: loanPurpose\n",
      "[4] Loan Type → 32: loanType\n",
      "[5] Loan Officer → 33: primaryRoleUser\n",
      "[6] Lead Source → 34: leadSource\n",
      "[7] State → 35: state\n",
      "[8] Sub Status → 36: subStatus\n",
      "[9] Referral Source → 37: referralSource\n",
      "[10] Inside Referral Source → 38: insideReferralSource\n",
      "[11] Referred To → 39: referredTo\n",
      "[12] Lead Campaign Name → 40: leadCampaignName\n",
      "[13] Secondary Referral Source → 41: secondaryReferralSource\n",
      "[14] Lead Ref ID → 42: leadRefId\n",
      "✅ 'Lead Ref ID' selected by visible text\n",
      "📂 First accordion clicked\n",
      "🧩 Columns dropdown opened\n",
      "✅ First checkbox clicked (Select All)\n",
      "✅ PipelineMetrics_LOS.csv downloaded and renamed.\n"
     ]
    }
   ],
   "source": [
    "# load environment variable to get .env file containing email and password\n",
    "from dotenv import load_dotenv\n",
    "load_dotenv(dotenv_path=\"../../.env\")\n",
    "\n",
    "# import all necessary packages\n",
    "import os\n",
    "import time\n",
    "import sys\n",
    "import pandas as pd\n",
    "import matplotlib.pyplot as plt\n",
    "from IPython.display import display\n",
    "\n",
    "#add src folder to path\n",
    "sys.path.append(os.path.abspath(\"../src\"))\n",
    "\n",
    "from scraping.driver_setup import get_driver\n",
    "from scraping.login import login\n",
    "from scraping.leads_scraper import scrape_leads\n",
    "from scraping.pipelinemetrics_scraper import scrape_pipeline_metrics\n",
    "from scraping.loanstatus_scraper import scrape_loanstatus\n",
    "from utils.file_ops import rename_latest_file\n",
    "\n",
    "from selenium.webdriver.support.ui import WebDriverWait\n",
    "\n",
    "# Set download directory\n",
    "download_dir = os.path.abspath(\"../../data/raw\")\n",
    "# Launch browser\n",
    "driver = get_driver(download_dir)\n",
    "wait = WebDriverWait(driver, 15)\n",
    "\n",
    "# Run scraping tasks\n",
    "login(driver, wait)\n",
    "\n",
    "\n",
    "#Scrape Leads_CRM\n",
    "scrape_leads(driver, wait, download_dir)\n",
    "rename_latest_file(download_dir, \"Leads_CRM.csv\")\n",
    "\n",
    "#Scrape Loanstatus\n",
    "scrape_loanstatus(driver, wait, download_dir)\n",
    "rename_latest_file(download_dir, \"Loanstatus.csv\")\n",
    "#Scrape PipelineMetrics_LOS\n",
    "scrape_pipeline_metrics(driver, wait, download_dir)\n",
    "rename_latest_file(download_dir, \"PipelineMetrics_LOS.csv\")\n"
   ]
  },
  {
   "cell_type": "code",
   "execution_count": 65,
   "id": "39ca536f",
   "metadata": {},
   "outputs": [
    {
     "name": "stdout",
     "output_type": "stream",
     "text": [
      "[0]  → \n",
      "[1] Branch → 29: branch\n",
      "[2] Loan Status → 30: loanStatus\n",
      "[3] Loan Purpose → 31: loanPurpose\n",
      "[4] Loan Type → 32: loanType\n",
      "[5] Loan Officer → 33: primaryRoleUser\n",
      "[6] Lead Source → 34: leadSource\n",
      "[7] State → 35: state\n",
      "[8] Sub Status → 36: subStatus\n",
      "[9] Referral Source → 37: referralSource\n",
      "[10] Inside Referral Source → 38: insideReferralSource\n",
      "[11] Referred To → 39: referredTo\n",
      "[12] Lead Campaign Name → 40: leadCampaignName\n",
      "[13] Secondary Referral Source → 41: secondaryReferralSource\n",
      "[14] Lead Ref ID → 42: leadRefId\n",
      "✅ 'Lead Ref ID' selected by visible text\n"
     ]
    }
   ],
   "source": [
    "# Re-fetch the dropdown inside Pipeline Metrics section\n",
    "dropdown = wait.until(EC.presence_of_element_located(\n",
    "    (By.XPATH, \"//h4[.//span[text()='Pipeline Metrics']]//select\"))\n",
    ")\n",
    "select = Select(dropdown)\n",
    "\n",
    "# Log all options to confirm visibility\n",
    "for i, opt in enumerate(select.options):\n",
    "    print(f\"[{i}] {opt.text.strip()} → {opt.get_attribute('value')}\")\n",
    "\n",
    "# Select by visible text (robust against value changes)\n",
    "select.select_by_visible_text(\"Lead Ref ID\")\n",
    "print(\"✅ 'Lead Ref ID' selected by visible text\")\n",
    "time.sleep(1)"
   ]
  },
  {
   "cell_type": "code",
   "execution_count": null,
   "id": "ee7428fd",
   "metadata": {},
   "outputs": [],
   "source": [
    "\n",
    "\n",
    "    # Step 5: Trigger CSV export\n",
    "    export_button = wait.until(EC.element_to_be_clickable(\n",
    "        (By.XPATH, \"//button[contains(text(), 'Export To CSV')]\"))\n",
    "    )\n",
    "    export_button.click()\n",
    "    print(\"📤 Export triggered\")\n",
    "    time.sleep(2)\n",
    "\n",
    "    # Step 6: Wait for download to finish\n",
    "    start_time = time.time()\n",
    "    while any(f.endswith(\".crdownload\") for f in os.listdir(download_dir)):\n",
    "        if time.time() - start_time > 30:\n",
    "            raise TimeoutError(\"Download did not complete within expected time.\")\n",
    "        time.sleep(0.5)\n",
    "\n",
    "    # Step 7: Rename the most recent download\n",
    "    files = sorted(os.listdir(download_dir), key=lambda x: os.path.getctime(os.path.join(download_dir, x)), reverse=True)\n",
    "    latest_file = files[0]\n",
    "    os.rename(os.path.join(download_dir, latest_file), os.path.join(download_dir, \"PipelineMetrics_LOS.csv\"))\n",
    "    print(\"✅ PipelineMetrics_LOS.csv downloaded and renamed.\")\n",
    "\n",
    "\n",
    "driver.quit()"
   ]
  },
  {
   "cell_type": "code",
   "execution_count": null,
   "id": "94d0ef84",
   "metadata": {},
   "outputs": [],
   "source": [
    "\n"
   ]
  },
  {
   "cell_type": "code",
   "execution_count": null,
   "id": "684cddb9",
   "metadata": {},
   "outputs": [],
   "source": [
    "\n",
    "#Scrape PipelineMetrics_LOS\n",
    "scrape_pipeline_metrics(driver, wait, download_dir)\n",
    "rename_latest_file(download_dir, \"PipelineMetrics_LOS.csv\")\n",
    "\n",
    "#end session\n",
    "driver.quit()\n",
    "\n",
    "#import sys\n",
    "sys.path.append(\"..\")\n",
    "\n",
    "from sync_to_google_sheets import upload_csv_to_sheet\n",
    "\n",
    "# Upload Leads_CRM.csv to 'CRM' tab\n",
    "upload_csv_to_sheet(\"../../data/raw/Leads_CRM.csv\", \"CRM\")\n",
    "# Upload PipelineMetrics_LOS.csv to 'LOS' tab\n",
    "upload_csv_to_sheet(\"../../data/raw/PipelineMetrics_LOS.csv\", \"LOS\")\n",
    "# Upload PipelineMetrics_LOS.csv to 'LoanStatus' tab\n",
    "upload_csv_to_sheet(\"../../data/raw/LoanStatus.csv\", \"LoanStatus\")\n",
    "\n"
   ]
  },
  {
   "cell_type": "code",
   "execution_count": null,
   "id": "20082ebf",
   "metadata": {},
   "outputs": [
    {
     "name": "stdout",
     "output_type": "stream",
     "text": [
      "✅ Uploaded ../../data/raw/Leads_CRM.csv to tab 'CRM'\n",
      "✅ Uploaded ../../data/raw/PipelineMetrics_LOS.csv to tab 'LOS'\n",
      "✅ Uploaded ../../data/raw/LoanStatus.csv to tab 'LoanStatus'\n"
     ]
    }
   ],
   "source": [
    "#import sys\n",
    "sys.path.append(\"..\")\n",
    "\n",
    "from sync_to_google_sheets import upload_csv_to_sheet\n",
    "\n",
    "# Upload Leads_CRM.csv to 'CRM' tab\n",
    "upload_csv_to_sheet(\"../../data/raw/Leads_CRM.csv\", \"CRM\")\n",
    "# Upload PipelineMetrics_LOS.csv to 'LOS' tab\n",
    "upload_csv_to_sheet(\"../../data/raw/PipelineMetrics_LOS.csv\", \"LOS\")\n",
    "# Upload PipelineMetrics_LOS.csv to 'LoanStatus' tab\n",
    "upload_csv_to_sheet(\"../../data/raw/LoanStatus.csv\", \"LoanStatus\")\n"
   ]
  }
 ],
 "metadata": {
  "kernelspec": {
   "display_name": "venv",
   "language": "python",
   "name": "python3"
  },
  "language_info": {
   "codemirror_mode": {
    "name": "ipython",
    "version": 3
   },
   "file_extension": ".py",
   "mimetype": "text/x-python",
   "name": "python",
   "nbconvert_exporter": "python",
   "pygments_lexer": "ipython3",
   "version": "3.12.11"
  }
 },
 "nbformat": 4,
 "nbformat_minor": 5
}
